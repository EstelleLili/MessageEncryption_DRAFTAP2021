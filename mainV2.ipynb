{
 "cells": [
  {
   "cell_type": "code",
   "execution_count": 8,
   "metadata": {},
   "outputs": [
    {
     "name": "stdout",
     "output_type": "stream",
     "text": [
      "ENTER message to encrypt: hi\n",
      "\n",
      "Do you want to encrypt a message? y or n: y\n",
      "\n",
      "Your encrypted_message: \n",
      " b'gAAAAABgebHWsqy70u4Vn0hg-yk8hEsyeAH0F3BpaoO9dgC93OttC1JP9AJkTze71_G0j72Gr-bhNdECnaNflxgiPzfAWUe8rA=='\n",
      "\n",
      "Do you want to decrypt your message? y or n: n\n",
      "OK GOOD BYE.\n"
     ]
    }
   ],
   "source": [
    "from cryptography.fernet import Fernet\n",
    "from csv import writer\n",
    "import pandas as pd\n",
    "\n",
    "def generate_key():\n",
    "    \"\"\"Generates a key and save it into a file\"\"\"\n",
    "    key = Fernet.generate_key()\n",
    "    with open(\"secret.key\", \"wb\") as key_file:\n",
    "        key_file.write(key)\n",
    "        \n",
    "def load_key():\n",
    "    \"\"\"Load the previously generated key\"\"\"\n",
    "    return open(\"secret.key\", \"rb\").read()\n",
    "\n",
    "def encrypt_message(message):\n",
    "    \"\"\"Encrypts a message\"\"\"\n",
    "    key = load_key()\n",
    "    encoded_message = message.encode()        \n",
    "    f = Fernet(key)\n",
    "    encrypted_message = f.encrypt(encoded_message)\n",
    "    return encrypted_message\n",
    "\n",
    "def decrypt_question():\n",
    "    y_n = [\"y\", \"n\"]\n",
    "    response = input(\"\\nDo you want to decrypt your message? y or n: \")\n",
    "    response = response.lower()\n",
    "    while response not in y_n:\n",
    "        response = input(\"Please repond y or n: \")\n",
    "    if response == \"y\":\n",
    "        decrypt_message(encrypt_message)\n",
    "    else:\n",
    "        print(\"OK GOOD BYE.\")\n",
    "\n",
    "        \n",
    "def decrypt_message(encrypt_message):\n",
    "    \"\"\"Decrypts an encrypted message\"\"\"\n",
    "    key = load_key()\n",
    "    f = Fernet(key)\n",
    "    decrypted_message = f.decrypt(encrypt_message).decode()\n",
    "    return decrypted_message\n",
    "\n",
    "if __name__ == \"__main__\":\n",
    "    generate_key()\n",
    "    \n",
    "#input\n",
    "message = input(\"ENTER message to encrypt: \")\n",
    "\n",
    "y_n = [\"y\", \"n\"]\n",
    "\n",
    "#ask confirmation to encrypt message\n",
    "if message != \"\":\n",
    "    response = input(\"\\nDo you want to encrypt a message? y or n: \")\n",
    "    response = response.lower()\n",
    "    while response not in y_n:\n",
    "        response = input(\"Please repond y or n: \")\n",
    "    if response == \"y\" and message != \"\":\n",
    "        encrypt_message(message)\n",
    "        print(\"\\nYour encrypted_message: \\n\", encrypt_message(message))\n",
    "    else:\n",
    "        print(\"you type 'n'... good bye.\")\n",
    "else:\n",
    "    print(\"You have to type something, at least\")  \n",
    "    \n",
    "#ask confirm to decrypt message\n",
    "response = input(\"\\nDo you want to decrypt your message? y or n: \")\n",
    "response = response.lower()\n",
    "while response not in y_n:\n",
    "    response = input(\"Please repond y or n: \")\n",
    "if response == \"y\":\n",
    "    decrypt_message(encrypt_message(message))\n",
    "    print(\"\\nYour decrypted_message: \\n\", decrypt_message(encrypt_message(message)))\n",
    "else:\n",
    "    print(\"OK GOOD BYE.\")"
   ]
  },
  {
   "cell_type": "code",
   "execution_count": 2,
   "metadata": {},
   "outputs": [
    {
     "ename": "NameError",
     "evalue": "name 'csv' is not defined",
     "output_type": "error",
     "traceback": [
      "\u001b[1;31m---------------------------------------------------------------------------\u001b[0m",
      "\u001b[1;31mNameError\u001b[0m                                 Traceback (most recent call last)",
      "\u001b[1;32m<ipython-input-2-be0b33dd114a>\u001b[0m in \u001b[0;36m<module>\u001b[1;34m\u001b[0m\n\u001b[0;32m      1\u001b[0m \u001b[1;32mwith\u001b[0m \u001b[0mopen\u001b[0m\u001b[1;33m(\u001b[0m\u001b[1;34m'messageEncryption.csv'\u001b[0m\u001b[1;33m,\u001b[0m \u001b[1;34m'w'\u001b[0m\u001b[1;33m,\u001b[0m \u001b[0mnewline\u001b[0m\u001b[1;33m=\u001b[0m\u001b[1;34m''\u001b[0m\u001b[1;33m)\u001b[0m \u001b[1;32mas\u001b[0m \u001b[0mcsvfile\u001b[0m\u001b[1;33m:\u001b[0m\u001b[1;33m\u001b[0m\u001b[1;33m\u001b[0m\u001b[0m\n\u001b[0;32m      2\u001b[0m     \u001b[0mfieldnames\u001b[0m \u001b[1;33m=\u001b[0m \u001b[1;33m[\u001b[0m\u001b[1;34m'intput'\u001b[0m\u001b[1;33m,\u001b[0m \u001b[1;34m'encrypted'\u001b[0m\u001b[1;33m,\u001b[0m \u001b[1;34m'output'\u001b[0m\u001b[1;33m]\u001b[0m\u001b[1;33m\u001b[0m\u001b[1;33m\u001b[0m\u001b[0m\n\u001b[1;32m----> 3\u001b[1;33m     \u001b[0mwriter\u001b[0m \u001b[1;33m=\u001b[0m \u001b[0mcsv\u001b[0m\u001b[1;33m.\u001b[0m\u001b[0mDictWriter\u001b[0m\u001b[1;33m(\u001b[0m\u001b[0mcsvfile\u001b[0m\u001b[1;33m,\u001b[0m \u001b[0mfieldnames\u001b[0m\u001b[1;33m=\u001b[0m\u001b[0mfieldnames\u001b[0m\u001b[1;33m)\u001b[0m\u001b[1;33m\u001b[0m\u001b[1;33m\u001b[0m\u001b[0m\n\u001b[0m\u001b[0;32m      4\u001b[0m \u001b[1;31m#print(row)\u001b[0m\u001b[1;33m\u001b[0m\u001b[1;33m\u001b[0m\u001b[1;33m\u001b[0m\u001b[0m\n",
      "\u001b[1;31mNameError\u001b[0m: name 'csv' is not defined"
     ]
    }
   ],
   "source": [
    "with open('messageEncryption.csv', 'w', newline='') as csvfile:\n",
    "    fieldnames = ['intput', 'encrypted', 'output']\n",
    "    writer = csv.DictWriter(csvfile, fieldnames=fieldnames)\n",
    "#print(row)"
   ]
  },
  {
   "cell_type": "code",
   "execution_count": null,
   "metadata": {},
   "outputs": [],
   "source": []
  }
 ],
 "metadata": {
  "kernelspec": {
   "display_name": "Python 3",
   "language": "python",
   "name": "python3"
  }
 },
 "nbformat": 4,
 "nbformat_minor": 4
}
