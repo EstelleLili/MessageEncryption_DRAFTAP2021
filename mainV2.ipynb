{
 "cells": [
  {
   "cell_type": "code",
   "execution_count": 33,
   "metadata": {},
   "outputs": [
    {
     "name": "stdout",
     "output_type": "stream",
     "text": [
      "ENTER message to encrypt: hi\n",
      "\n",
      "Your encrypted_message: \n",
      " b'gAAAAABgea100x3uTK9UM13f0B1GA_DABPElqqRlwOV4sBONvQP2ED6NYpxu7vV_maSFY_CFdShkq3cAcr7RmAcrNMeL4MYzDQ=='\n",
      "\n",
      "Your decrypted_message: \n",
      " hi\n"
     ]
    }
   ],
   "source": [
    "from cryptography.fernet import Fernet\n",
    "from csv import writer\n",
    "import pandas as pd\n",
    "\n",
    "def generate_key():\n",
    "    \"\"\"Generates a key and save it into a file\"\"\"\n",
    "    key = Fernet.generate_key()\n",
    "    with open(\"secret.key\", \"wb\") as key_file:\n",
    "        key_file.write(key)\n",
    "        \n",
    "def load_key():\n",
    "    \"\"\"Load the previously generated key\"\"\"\n",
    "    return open(\"secret.key\", \"rb\").read()\n",
    "\n",
    "def encrypt_message(message):\n",
    "    \"\"\"Encrypts a message\"\"\"\n",
    "    key = load_key()\n",
    "    encoded_message = message.encode()        \n",
    "    f = Fernet(key)\n",
    "    encrypted_message = f.encrypt(encoded_message)\n",
    "    return encrypted_message\n",
    "        \n",
    "def decrypt_message(encrypt_message):\n",
    "    \"\"\"Decrypts an encrypted message\"\"\"\n",
    "    key = load_key()\n",
    "    f = Fernet(key)\n",
    "    decrypted_message = f.decrypt(encrypt_message).decode()\n",
    "    return decrypted_message\n",
    "\n",
    "if __name__ == \"__main__\":\n",
    "    generate_key()\n",
    "    \n",
    "#input\n",
    "message = input(\"ENTER message to encrypt: \")\n",
    "\n",
    "if message != \"\":\n",
    "    print(\"\\nYour encrypted_message: \\n\", encrypt_message(message))\n",
    "    print(\"\\nYour decrypted_message: \\n\", decrypt_message(encrypt_message(message)))\n",
    "else:\n",
    "    print(\"You have to type something, at least\")\n",
    "    \n",
    "    "
   ]
  },
  {
   "cell_type": "code",
   "execution_count": null,
   "metadata": {},
   "outputs": [],
   "source": [
    "\n",
    "with open('messageEncryption.csv', 'w', newline='') as csvfile:\n",
    "    fieldnames = ['intput', 'encrypted', 'output']\n",
    "    writer = csv.DictWriter(csvfile, fieldnames=fieldnames)\n",
    "#print(row)"
   ]
  },
  {
   "cell_type": "code",
   "execution_count": null,
   "metadata": {},
   "outputs": [],
   "source": []
  }
 ],
 "metadata": {
  "kernelspec": {
   "display_name": "Python 3",
   "language": "python",
   "name": "python3"
  }
 },
 "nbformat": 4,
 "nbformat_minor": 4
}
