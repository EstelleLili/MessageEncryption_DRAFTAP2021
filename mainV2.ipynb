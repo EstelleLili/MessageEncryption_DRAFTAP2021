{
 "cells": [
  {
   "cell_type": "code",
   "execution_count": 38,
   "metadata": {},
   "outputs": [
    {
     "name": "stdout",
     "output_type": "stream",
     "text": [
      "ENTER message to encrypt: my name is bla\n",
      "Your message is: my name is bla\n",
      "\n",
      "Your encrypted_message: \n",
      " b'gAAAAABgeZEl9ISbfJsOTiJXLPAT9FnnbUxmpnIcRU0QVn2buDI9-U1_mSnLBdvwdC5oG7wZQRvQEn8PnFcQDxq62bxgp4vRkA=='\n",
      "\n",
      "Your decrypted_message: \n",
      " my name is bla\n"
     ]
    }
   ],
   "source": [
    "from cryptography.fernet import Fernet\n",
    "from csv import writer\n",
    "\n",
    "def generate_key():\n",
    "    \"\"\"Generates a key and save it into a file\"\"\"\n",
    "    key = Fernet.generate_key()\n",
    "    with open(\"secret.key\", \"wb\") as key_file:\n",
    "        key_file.write(key)\n",
    "        \n",
    "def load_key():\n",
    "    \"\"\"Load the previously generated key\"\"\"\n",
    "    return open(\"secret.key\", \"rb\").read()\n",
    "\n",
    "def encrypt_message(message):\n",
    "    \"\"\"Encrypts a message\"\"\"\n",
    "    key = load_key()\n",
    "    encoded_message = message.encode()\n",
    "    f = Fernet(key)\n",
    "    encrypted_message = f.encrypt(encoded_message)\n",
    "    return encrypted_message\n",
    "        \n",
    "def decrypt_message(encrypt_message):\n",
    "    \"\"\"Decrypts an encrypted message\"\"\"\n",
    "    key = load_key()\n",
    "    f = Fernet(key)\n",
    "    decrypted_message = f.decrypt(encrypt_message).decode()\n",
    "    return decrypted_message\n",
    "    \n",
    "if __name__ == \"__main__\":\n",
    "    message = input(\"ENTER message to encrypt: \")\n",
    "    print(\"Your message is:\", message)\n",
    "    generate_key()\n",
    "    \n",
    "    if encrypt_message(message) == decrypt_message(encrypt_message(message)):\n",
    "        print(\"\\nYour encrypted_message: \\n\", encrypt_message(message))\n",
    "        print(\"\\nYour decrypted_message: \\n\", decrypt_message(encrypt_message(message)))"
   ]
  },
  {
   "cell_type": "code",
   "execution_count": null,
   "metadata": {},
   "outputs": [],
   "source": [
    "      \n"
   ]
  },
  {
   "cell_type": "code",
   "execution_count": null,
   "metadata": {},
   "outputs": [],
   "source": []
  }
 ],
 "metadata": {
  "kernelspec": {
   "display_name": "Python 3",
   "language": "python",
   "name": "python3"
  },
  "language_info": {
   "codemirror_mode": {
    "name": "ipython",
    "version": 3
   },
   "file_extension": ".py",
   "mimetype": "text/x-python",
   "name": "python",
   "nbconvert_exporter": "python",
   "pygments_lexer": "ipython3",
   "version": "3.8.3"
  }
 },
 "nbformat": 4,
 "nbformat_minor": 4
}
