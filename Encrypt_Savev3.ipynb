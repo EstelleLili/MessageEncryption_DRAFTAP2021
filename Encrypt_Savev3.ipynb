{
 "cells": [
  {
   "cell_type": "code",
   "execution_count": 5,
   "metadata": {},
   "outputs": [
    {
     "name": "stdout",
     "output_type": "stream",
     "text": [
      "\n",
      "Do you want to encrypt or decrypt a message? e or d: d\n",
      "Select message to DECRYPT: gAAAAABge-TRZ9KgwkPZfIL_aYcn4JMRBTH-BpYsXQmii6BhFvvNrcnKlzdr5U0J3UPv74P1kRznta2iVyInEe0DUmqthX17Wg==\n"
     ]
    },
    {
     "ename": "InvalidToken",
     "evalue": "",
     "output_type": "error",
     "traceback": [
      "\u001b[1;31m---------------------------------------------------------------------------\u001b[0m",
      "\u001b[1;31mInvalidSignature\u001b[0m                          Traceback (most recent call last)",
      "\u001b[1;32m~\\anaconda3\\lib\\site-packages\\cryptography\\fernet.py\u001b[0m in \u001b[0;36m_verify_signature\u001b[1;34m(self, data)\u001b[0m\n\u001b[0;32m    103\u001b[0m         \u001b[1;32mtry\u001b[0m\u001b[1;33m:\u001b[0m\u001b[1;33m\u001b[0m\u001b[1;33m\u001b[0m\u001b[0m\n\u001b[1;32m--> 104\u001b[1;33m             \u001b[0mh\u001b[0m\u001b[1;33m.\u001b[0m\u001b[0mverify\u001b[0m\u001b[1;33m(\u001b[0m\u001b[0mdata\u001b[0m\u001b[1;33m[\u001b[0m\u001b[1;33m-\u001b[0m\u001b[1;36m32\u001b[0m\u001b[1;33m:\u001b[0m\u001b[1;33m]\u001b[0m\u001b[1;33m)\u001b[0m\u001b[1;33m\u001b[0m\u001b[1;33m\u001b[0m\u001b[0m\n\u001b[0m\u001b[0;32m    105\u001b[0m         \u001b[1;32mexcept\u001b[0m \u001b[0mInvalidSignature\u001b[0m\u001b[1;33m:\u001b[0m\u001b[1;33m\u001b[0m\u001b[1;33m\u001b[0m\u001b[0m\n",
      "\u001b[1;32m~\\anaconda3\\lib\\site-packages\\cryptography\\hazmat\\primitives\\hmac.py\u001b[0m in \u001b[0;36mverify\u001b[1;34m(self, signature)\u001b[0m\n\u001b[0;32m     65\u001b[0m         \u001b[0mctx\u001b[0m\u001b[1;33m,\u001b[0m \u001b[0mself\u001b[0m\u001b[1;33m.\u001b[0m\u001b[0m_ctx\u001b[0m \u001b[1;33m=\u001b[0m \u001b[0mself\u001b[0m\u001b[1;33m.\u001b[0m\u001b[0m_ctx\u001b[0m\u001b[1;33m,\u001b[0m \u001b[1;32mNone\u001b[0m\u001b[1;33m\u001b[0m\u001b[1;33m\u001b[0m\u001b[0m\n\u001b[1;32m---> 66\u001b[1;33m         \u001b[0mctx\u001b[0m\u001b[1;33m.\u001b[0m\u001b[0mverify\u001b[0m\u001b[1;33m(\u001b[0m\u001b[0msignature\u001b[0m\u001b[1;33m)\u001b[0m\u001b[1;33m\u001b[0m\u001b[1;33m\u001b[0m\u001b[0m\n\u001b[0m",
      "\u001b[1;32m~\\anaconda3\\lib\\site-packages\\cryptography\\hazmat\\backends\\openssl\\hmac.py\u001b[0m in \u001b[0;36mverify\u001b[1;34m(self, signature)\u001b[0m\n\u001b[0;32m     73\u001b[0m         \u001b[1;32mif\u001b[0m \u001b[1;32mnot\u001b[0m \u001b[0mconstant_time\u001b[0m\u001b[1;33m.\u001b[0m\u001b[0mbytes_eq\u001b[0m\u001b[1;33m(\u001b[0m\u001b[0mdigest\u001b[0m\u001b[1;33m,\u001b[0m \u001b[0msignature\u001b[0m\u001b[1;33m)\u001b[0m\u001b[1;33m:\u001b[0m\u001b[1;33m\u001b[0m\u001b[1;33m\u001b[0m\u001b[0m\n\u001b[1;32m---> 74\u001b[1;33m             \u001b[1;32mraise\u001b[0m \u001b[0mInvalidSignature\u001b[0m\u001b[1;33m(\u001b[0m\u001b[1;34m\"Signature did not match digest.\"\u001b[0m\u001b[1;33m)\u001b[0m\u001b[1;33m\u001b[0m\u001b[1;33m\u001b[0m\u001b[0m\n\u001b[0m",
      "\u001b[1;31mInvalidSignature\u001b[0m: Signature did not match digest.",
      "\nDuring handling of the above exception, another exception occurred:\n",
      "\u001b[1;31mInvalidToken\u001b[0m                              Traceback (most recent call last)",
      "\u001b[1;32m<ipython-input-5-f1f81f090d0f>\u001b[0m in \u001b[0;36m<module>\u001b[1;34m\u001b[0m\n\u001b[0;32m     71\u001b[0m         \u001b[0mmessage\u001b[0m \u001b[1;33m=\u001b[0m \u001b[0mbytes\u001b[0m\u001b[1;33m(\u001b[0m\u001b[0minput\u001b[0m\u001b[1;33m(\u001b[0m\u001b[1;34m\"Select message to DECRYPT: \"\u001b[0m\u001b[1;33m)\u001b[0m\u001b[1;33m,\u001b[0m \u001b[1;34m\"utf-8\"\u001b[0m\u001b[1;33m)\u001b[0m\u001b[1;33m\u001b[0m\u001b[1;33m\u001b[0m\u001b[0m\n\u001b[0;32m     72\u001b[0m         \u001b[0mload_key\u001b[0m\u001b[1;33m(\u001b[0m\u001b[1;33m)\u001b[0m\u001b[1;33m\u001b[0m\u001b[1;33m\u001b[0m\u001b[0m\n\u001b[1;32m---> 73\u001b[1;33m         \u001b[0mdecrypt_message\u001b[0m\u001b[1;33m(\u001b[0m\u001b[0mmessage\u001b[0m\u001b[1;33m)\u001b[0m\u001b[1;33m\u001b[0m\u001b[1;33m\u001b[0m\u001b[0m\n\u001b[0m\u001b[0;32m     74\u001b[0m         \u001b[1;32mbreak\u001b[0m\u001b[1;33m\u001b[0m\u001b[1;33m\u001b[0m\u001b[0m\n\u001b[0;32m     75\u001b[0m     \u001b[1;32melse\u001b[0m\u001b[1;33m:\u001b[0m\u001b[1;33m\u001b[0m\u001b[1;33m\u001b[0m\u001b[0m\n",
      "\u001b[1;32m<ipython-input-5-f1f81f090d0f>\u001b[0m in \u001b[0;36mdecrypt_message\u001b[1;34m(encrypt_message)\u001b[0m\n\u001b[0;32m     34\u001b[0m     \u001b[0mkey\u001b[0m \u001b[1;33m=\u001b[0m \u001b[0mload_key\u001b[0m\u001b[1;33m(\u001b[0m\u001b[1;33m)\u001b[0m\u001b[1;33m\u001b[0m\u001b[1;33m\u001b[0m\u001b[0m\n\u001b[0;32m     35\u001b[0m     \u001b[0mf\u001b[0m \u001b[1;33m=\u001b[0m \u001b[0mFernet\u001b[0m\u001b[1;33m(\u001b[0m\u001b[0mkey\u001b[0m\u001b[1;33m)\u001b[0m\u001b[1;33m\u001b[0m\u001b[1;33m\u001b[0m\u001b[0m\n\u001b[1;32m---> 36\u001b[1;33m     \u001b[0mdecrypted_message\u001b[0m \u001b[1;33m=\u001b[0m \u001b[0mf\u001b[0m\u001b[1;33m.\u001b[0m\u001b[0mdecrypt\u001b[0m\u001b[1;33m(\u001b[0m\u001b[0mencrypt_message\u001b[0m\u001b[1;33m)\u001b[0m\u001b[1;33m.\u001b[0m\u001b[0mdecode\u001b[0m\u001b[1;33m(\u001b[0m\u001b[1;33m)\u001b[0m\u001b[1;33m\u001b[0m\u001b[1;33m\u001b[0m\u001b[0m\n\u001b[0m\u001b[0;32m     37\u001b[0m     \u001b[1;32mreturn\u001b[0m \u001b[0mdecrypted_message\u001b[0m\u001b[1;33m\u001b[0m\u001b[1;33m\u001b[0m\u001b[0m\n\u001b[0;32m     38\u001b[0m \u001b[1;33m\u001b[0m\u001b[0m\n",
      "\u001b[1;32m~\\anaconda3\\lib\\site-packages\\cryptography\\fernet.py\u001b[0m in \u001b[0;36mdecrypt\u001b[1;34m(self, token, ttl)\u001b[0m\n\u001b[0;32m     73\u001b[0m     \u001b[1;32mdef\u001b[0m \u001b[0mdecrypt\u001b[0m\u001b[1;33m(\u001b[0m\u001b[0mself\u001b[0m\u001b[1;33m,\u001b[0m \u001b[0mtoken\u001b[0m\u001b[1;33m,\u001b[0m \u001b[0mttl\u001b[0m\u001b[1;33m=\u001b[0m\u001b[1;32mNone\u001b[0m\u001b[1;33m)\u001b[0m\u001b[1;33m:\u001b[0m\u001b[1;33m\u001b[0m\u001b[1;33m\u001b[0m\u001b[0m\n\u001b[0;32m     74\u001b[0m         \u001b[0mtimestamp\u001b[0m\u001b[1;33m,\u001b[0m \u001b[0mdata\u001b[0m \u001b[1;33m=\u001b[0m \u001b[0mFernet\u001b[0m\u001b[1;33m.\u001b[0m\u001b[0m_get_unverified_token_data\u001b[0m\u001b[1;33m(\u001b[0m\u001b[0mtoken\u001b[0m\u001b[1;33m)\u001b[0m\u001b[1;33m\u001b[0m\u001b[1;33m\u001b[0m\u001b[0m\n\u001b[1;32m---> 75\u001b[1;33m         \u001b[1;32mreturn\u001b[0m \u001b[0mself\u001b[0m\u001b[1;33m.\u001b[0m\u001b[0m_decrypt_data\u001b[0m\u001b[1;33m(\u001b[0m\u001b[0mdata\u001b[0m\u001b[1;33m,\u001b[0m \u001b[0mtimestamp\u001b[0m\u001b[1;33m,\u001b[0m \u001b[0mttl\u001b[0m\u001b[1;33m)\u001b[0m\u001b[1;33m\u001b[0m\u001b[1;33m\u001b[0m\u001b[0m\n\u001b[0m\u001b[0;32m     76\u001b[0m \u001b[1;33m\u001b[0m\u001b[0m\n\u001b[0;32m     77\u001b[0m     \u001b[1;32mdef\u001b[0m \u001b[0mextract_timestamp\u001b[0m\u001b[1;33m(\u001b[0m\u001b[0mself\u001b[0m\u001b[1;33m,\u001b[0m \u001b[0mtoken\u001b[0m\u001b[1;33m)\u001b[0m\u001b[1;33m:\u001b[0m\u001b[1;33m\u001b[0m\u001b[1;33m\u001b[0m\u001b[0m\n",
      "\u001b[1;32m~\\anaconda3\\lib\\site-packages\\cryptography\\fernet.py\u001b[0m in \u001b[0;36m_decrypt_data\u001b[1;34m(self, data, timestamp, ttl)\u001b[0m\n\u001b[0;32m    115\u001b[0m                 \u001b[1;32mraise\u001b[0m \u001b[0mInvalidToken\u001b[0m\u001b[1;33m\u001b[0m\u001b[1;33m\u001b[0m\u001b[0m\n\u001b[0;32m    116\u001b[0m \u001b[1;33m\u001b[0m\u001b[0m\n\u001b[1;32m--> 117\u001b[1;33m         \u001b[0mself\u001b[0m\u001b[1;33m.\u001b[0m\u001b[0m_verify_signature\u001b[0m\u001b[1;33m(\u001b[0m\u001b[0mdata\u001b[0m\u001b[1;33m)\u001b[0m\u001b[1;33m\u001b[0m\u001b[1;33m\u001b[0m\u001b[0m\n\u001b[0m\u001b[0;32m    118\u001b[0m \u001b[1;33m\u001b[0m\u001b[0m\n\u001b[0;32m    119\u001b[0m         \u001b[0miv\u001b[0m \u001b[1;33m=\u001b[0m \u001b[0mdata\u001b[0m\u001b[1;33m[\u001b[0m\u001b[1;36m9\u001b[0m\u001b[1;33m:\u001b[0m\u001b[1;36m25\u001b[0m\u001b[1;33m]\u001b[0m\u001b[1;33m\u001b[0m\u001b[1;33m\u001b[0m\u001b[0m\n",
      "\u001b[1;32m~\\anaconda3\\lib\\site-packages\\cryptography\\fernet.py\u001b[0m in \u001b[0;36m_verify_signature\u001b[1;34m(self, data)\u001b[0m\n\u001b[0;32m    104\u001b[0m             \u001b[0mh\u001b[0m\u001b[1;33m.\u001b[0m\u001b[0mverify\u001b[0m\u001b[1;33m(\u001b[0m\u001b[0mdata\u001b[0m\u001b[1;33m[\u001b[0m\u001b[1;33m-\u001b[0m\u001b[1;36m32\u001b[0m\u001b[1;33m:\u001b[0m\u001b[1;33m]\u001b[0m\u001b[1;33m)\u001b[0m\u001b[1;33m\u001b[0m\u001b[1;33m\u001b[0m\u001b[0m\n\u001b[0;32m    105\u001b[0m         \u001b[1;32mexcept\u001b[0m \u001b[0mInvalidSignature\u001b[0m\u001b[1;33m:\u001b[0m\u001b[1;33m\u001b[0m\u001b[1;33m\u001b[0m\u001b[0m\n\u001b[1;32m--> 106\u001b[1;33m             \u001b[1;32mraise\u001b[0m \u001b[0mInvalidToken\u001b[0m\u001b[1;33m\u001b[0m\u001b[1;33m\u001b[0m\u001b[0m\n\u001b[0m\u001b[0;32m    107\u001b[0m \u001b[1;33m\u001b[0m\u001b[0m\n\u001b[0;32m    108\u001b[0m     \u001b[1;32mdef\u001b[0m \u001b[0m_decrypt_data\u001b[0m\u001b[1;33m(\u001b[0m\u001b[0mself\u001b[0m\u001b[1;33m,\u001b[0m \u001b[0mdata\u001b[0m\u001b[1;33m,\u001b[0m \u001b[0mtimestamp\u001b[0m\u001b[1;33m,\u001b[0m \u001b[0mttl\u001b[0m\u001b[1;33m)\u001b[0m\u001b[1;33m:\u001b[0m\u001b[1;33m\u001b[0m\u001b[1;33m\u001b[0m\u001b[0m\n",
      "\u001b[1;31mInvalidToken\u001b[0m: "
     ]
    }
   ],
   "source": [
    "import pandas as pd\n",
    "from cryptography.fernet import Fernet\n",
    "from csv import writer\n",
    "from datetime import datetime\n",
    "\n",
    "\n",
    "\n",
    "def generate_key():\n",
    "    \"\"\"Generates a key and save it into a file\"\"\"\n",
    "    global key\n",
    "    key = Fernet.generate_key()\n",
    "    with open(\"secret.key\", \"wb\") as key_file:\n",
    "        key_file.write(key)\n",
    "    \n",
    "    return key\n",
    "        \n",
    "def load_key():\n",
    "    \"\"\"Load the previously generated key\"\"\"\n",
    "    return open(\"secret.key\", \"rb\").read()\n",
    "\n",
    "def encrypt_message(message):\n",
    "    \"\"\"Encrypts a message\"\"\"\n",
    "    global encrypted_message \n",
    "    key = load_key()\n",
    "    encoded_message = message.encode()        \n",
    "    f = Fernet(key)\n",
    "    encrypted_message = f.encrypt(encoded_message)\n",
    "    \n",
    "    return encrypted_message\n",
    "\n",
    "    \n",
    "def decrypt_message(encrypt_message):\n",
    "    \"\"\"Decrypts an encrypted message\"\"\"\n",
    "    key = load_key()\n",
    "    f = Fernet(key)\n",
    "    decrypted_message = f.decrypt(encrypt_message).decode()\n",
    "    return decrypted_message\n",
    "\n",
    "def log():\n",
    "    date_time=datetime.now()\n",
    "    timestamp= date_time.strftime(\"%d/%m/%Y-%H:%M\")\n",
    "    timestamp\n",
    "    List= [timestamp, message, encrypt_message(message),generate_key()]\n",
    "    with open('log1.csv', 'a') as f_object:\n",
    "        writer_object = writer(f_object)\n",
    "        writer_object.writerow(List)\n",
    "        f_object.close()\n",
    "    \n",
    "\n",
    "flag = True\n",
    "while flag == True:\n",
    "    e_d = [\"e\", \"d\"]\n",
    "    \n",
    "    key = ''\n",
    "    encrypted_message= \"\"\n",
    "    \n",
    "    response_enc = input(\"\\nDo you want to encrypt or decrypt a message? e or d: \")\n",
    "    response_enc = response_enc.lower()\n",
    "    if response_enc not in e_d:\n",
    "        response_enc = input(\"\\n!!!Please answer question!!! e or d: \")\n",
    "        \n",
    "    if response_enc == \"e\":\n",
    "        message = input(\"ENTER message to ENCRYPT: \")\n",
    "        log()\n",
    "        print(\"\\nENCRYPTING MESSAGE........\\n\", encrypted_message)\n",
    "        \n",
    "        print(\"\\nKey.........\\n\", key)\n",
    "        break\n",
    "\n",
    "    if response_enc == \"d\":\n",
    "        message = bytes(input(\"Select message to DECRYPT: \"), \"utf-8\")\n",
    "        load_key()\n",
    "        decrypt_message(message)\n",
    "        break\n",
    "    else:\n",
    "        print(\"you type 'n'... good bye.\")\n",
    "        break\n",
    "    \n",
    "    \n",
    "flag = False"
   ]
  },
  {
   "cell_type": "code",
   "execution_count": null,
   "metadata": {},
   "outputs": [],
   "source": []
  },
  {
   "cell_type": "code",
   "execution_count": null,
   "metadata": {},
   "outputs": [],
   "source": []
  },
  {
   "cell_type": "code",
   "execution_count": null,
   "metadata": {},
   "outputs": [],
   "source": [
    "\n"
   ]
  },
  {
   "cell_type": "code",
   "execution_count": null,
   "metadata": {},
   "outputs": [],
   "source": []
  }
 ],
 "metadata": {
  "kernelspec": {
   "display_name": "Python 3",
   "language": "python",
   "name": "python3"
  },
  "language_info": {
   "codemirror_mode": {
    "name": "ipython",
    "version": 3
   },
   "file_extension": ".py",
   "mimetype": "text/x-python",
   "name": "python",
   "nbconvert_exporter": "python",
   "pygments_lexer": "ipython3",
   "version": "3.8.3"
  }
 },
 "nbformat": 4,
 "nbformat_minor": 4
}
