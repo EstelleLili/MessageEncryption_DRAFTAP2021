{
 "cells": [
  {
   "cell_type": "code",
   "execution_count": 6,
   "metadata": {},
   "outputs": [],
   "source": [
    "import pandas as pd\n",
    "from cryptography.fernet import Fernet\n",
    "from csv import writer\n",
    "from datetime import datetime"
   ]
  },
  {
   "cell_type": "code",
   "execution_count": null,
   "metadata": {},
   "outputs": [
    {
     "name": "stdout",
     "output_type": "stream",
     "text": [
      "\n",
      "Do you want to encrypt or decrypt a message? e or d: d\n"
     ]
    }
   ],
   "source": [
    "\n",
    "\n",
    "\n",
    "def generate_key():\n",
    "    \"\"\"Generates a key and save it into a file\"\"\"\n",
    "    key = Fernet.generate_key()\n",
    "    with open(\"secret.key\", \"wb\") as key_file:\n",
    "        key_file.write(key)\n",
    "    return key\n",
    "        \n",
    "def load_key():\n",
    "    \"\"\"\n",
    "    Load the previously generated key\n",
    "    \"\"\"\n",
    "    return open(\"secret.key\", \"rb\").read()\n",
    "\n",
    "    \n",
    "def enter_key():\n",
    "    \"\"\"\n",
    "    Load the previously generated key\n",
    "    \"\"\"\n",
    "    key = bytes(input(\"\\nEnter Key: \"), 'utf-8')\n",
    "    return key\n",
    "\n",
    "def encrypt_message(message):\n",
    "    \"\"\"Encrypts a message\"\"\"\n",
    "    key = load_key()\n",
    "    encoded_message = message.encode()        \n",
    "    f = Fernet(key)\n",
    "    encrypted_message = f.encrypt(encoded_message)\n",
    "    print(\"\\nENCRYPTING MESSAGE........\\n\", encrypted_message)\n",
    "    print(\"\\nKey.........\\n\", key)\n",
    "    date_time=datetime.now()\n",
    "    timestamp= date_time.strftime(\"%d/%m/%Y-%H:%M\")\n",
    "    timestamp\n",
    "    List= [timestamp, message, encrypted_message,key]\n",
    "    with open('log1.csv', 'a') as f_object:\n",
    "        writer_object = writer(f_object)\n",
    "        writer_object.writerow(List)\n",
    "        f_object.close()\n",
    "    return encrypted_message\n",
    "\n",
    "    \n",
    "def decrypt_message(encrypted_message):\n",
    "    \"\"\"\n",
    "    Decrypts an encrypted message\n",
    "    \"\"\"\n",
    "    key = enter_key()\n",
    "    f = Fernet(key)\n",
    "    decrypted_message = f.decrypt(encrypted_message)\n",
    "    print(\"\\nDecrypted Message: \\n\", decrypted_message.decode())\n",
    "\n",
    "    \n",
    "\n",
    "flag = True\n",
    "while flag == True:\n",
    "    e_d = [\"e\", \"d\"]\n",
    "    \n",
    "    key = ''\n",
    "    encrypted_message= \"\"\n",
    "    \n",
    "    response_enc = input(\"\\nDo you want to encrypt or decrypt a message? e or d: \")\n",
    "    response_enc = response_enc.lower()\n",
    "    if response_enc not in e_d:\n",
    "        response_enc = input(\"\\n!!!Please answer question!!! e or d: \")\n",
    "        \n",
    "    if response_enc == \"e\":\n",
    "        message = input(\"ENTER message to ENCRYPT: \")\n",
    "        encrypt_message(message)\n",
    "        break\n",
    "\n",
    "    if response_enc == \"d\":\n",
    "        message = bytes(input(\"\\nSelect message to DECRYPT: \\n\"), \"utf-8\")\n",
    "        decrypt_message(message)\n",
    "        break\n",
    "    else:\n",
    "        print(\"you type 'n'... good bye.\")\n",
    "        break\n",
    "    \n",
    "flag = False"
   ]
  },
  {
   "cell_type": "code",
   "execution_count": null,
   "metadata": {},
   "outputs": [],
   "source": []
  },
  {
   "cell_type": "code",
   "execution_count": null,
   "metadata": {},
   "outputs": [],
   "source": []
  },
  {
   "cell_type": "code",
   "execution_count": null,
   "metadata": {},
   "outputs": [],
   "source": [
    "\n"
   ]
  },
  {
   "cell_type": "code",
   "execution_count": null,
   "metadata": {},
   "outputs": [],
   "source": []
  }
 ],
 "metadata": {
  "kernelspec": {
   "display_name": "Python 3",
   "language": "python",
   "name": "python3"
  },
  "language_info": {
   "codemirror_mode": {
    "name": "ipython",
    "version": 3
   },
   "file_extension": ".py",
   "mimetype": "text/x-python",
   "name": "python",
   "nbconvert_exporter": "python",
   "pygments_lexer": "ipython3",
   "version": "3.8.3"
  }
 },
 "nbformat": 4,
 "nbformat_minor": 4
}
