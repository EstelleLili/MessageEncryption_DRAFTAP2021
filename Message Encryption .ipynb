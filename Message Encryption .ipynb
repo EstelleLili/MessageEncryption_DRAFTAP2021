{
 "cells": [
  {
   "cell_type": "code",
   "execution_count": 8,
   "metadata": {},
   "outputs": [
    {
     "name": "stdout",
     "output_type": "stream",
     "text": [
      "Requirement already satisfied: cryptography in c:\\users\\lilie\\anaconda3\\lib\\site-packages (2.9.2)\n",
      "Requirement already satisfied: six>=1.4.1 in c:\\users\\lilie\\anaconda3\\lib\\site-packages (from cryptography) (1.15.0)\n",
      "Requirement already satisfied: cffi!=1.11.3,>=1.8 in c:\\users\\lilie\\anaconda3\\lib\\site-packages (from cryptography) (1.14.0)\n",
      "Requirement already satisfied: pycparser in c:\\users\\lilie\\anaconda3\\lib\\site-packages (from cffi!=1.11.3,>=1.8->cryptography) (2.20)\n"
     ]
    }
   ],
   "source": [
    "!pip3 install cryptography"
   ]
  },
  {
   "cell_type": "code",
   "execution_count": 30,
   "metadata": {
    "scrolled": true
   },
   "outputs": [
    {
     "name": "stdout",
     "output_type": "stream",
     "text": [
      "ENTER message to encrypt: try\n",
      "Your message is: try\n",
      "\n",
      "Your encrypted_message: \n",
      " b'gAAAAABgeY5aIiHqXwC_m6_T-ZNBJ_rZMmlHhCU-kcXTU2ldWm1YdPlMkc0GCtlNV9j1n-JeqrfK0n8ZD_Z-JZnFYuj221OrMA=='\n"
     ]
    }
   ],
   "source": [
    "from cryptography.fernet import Fernet\n",
    "from csv import writer\n",
    "\n",
    "def start_message():\n",
    "    y_n = [\"y\", \"n\"]\n",
    "    response = str(input(\"\\nDo you want to encrypt a message? y or n: \"))\n",
    "    response = response.lower()\n",
    "    while response not in y_n:\n",
    "        response = input(\"Please repond y or n: \")\n",
    "    if response == \"y\":\n",
    "        message()\n",
    "    else:\n",
    "        print(\"ok good bye.\")\n",
    "    \n",
    "def message():\n",
    "    \"Create a message\"\n",
    "    message = \"\"\n",
    "    message = input(\"ENTER message to encrypt: \")\n",
    "    print(\"Your message is:\", message)\n",
    "    encrypt_message(message)\n",
    "  \n",
    "    \n",
    "def generate_key():\n",
    "    \"\"\"Generates a key and save it into a file\"\"\"\n",
    "    key = Fernet.generate_key()\n",
    "    with open(\"secret.key\", \"wb\") as key_file:\n",
    "        key_file.write(key)\n",
    "        \n",
    "def load_key():\n",
    "    \"\"\"Load the previously generated key\"\"\"\n",
    "    return open(\"secret.key\", \"rb\").read()\n",
    "\n",
    "def encrypt_message(message):\n",
    "    \"\"\"Encrypts a message\"\"\"\n",
    "    key = load_key()\n",
    "    encoded_message = message.encode()\n",
    "    f = Fernet(key)\n",
    "    encrypted_message = f.encrypt(encoded_message)\n",
    "    \n",
    "    print(\"\\nYour encrypted_message: \\n\", encrypted_message)\n",
    "    decrypt_question()\n",
    "    return encrypted_message\n",
    "\n",
    "def decrypt_question():      \n",
    "    y_n = [\"y\", \"n\"]\n",
    "    response = str(input(\"\\nDo you want to decrypt your message? y or n: \"))\n",
    "    response = response.lower()\n",
    "    while response not in y_n:\n",
    "        response = input(\"Please repond y or n: \")\n",
    "    if response == \"y\":\n",
    "        decrypt_message(encrypted_message)\n",
    "    else:\n",
    "        print(\"OK GOOD BYE.\")  \n",
    "    \n",
    "def decrypt_message(encrypt_message):\n",
    "    \"\"\"Decrypts an encrypted message\"\"\"\n",
    "    key = load_key()\n",
    "    f = Fernet(key)\n",
    "    decrypted_message = f.decrypt(encrypted_message).decode()\n",
    "    return decrypted_message \n",
    "    \n",
    "\n",
    "    \n",
    "if __name__ == \"__main__\":\n","

    "    message = input(\"ENTER message to encrypt: \")\n",
    "    print(\"Your message is:\", message)\n",
    "    generate_key()\n",
    "    encrypt_message(message)\n"

   ]
  },
  {
   "cell_type": "code",
   "execution_count": null,
   "metadata": {},
   "outputs": [],
   "source": []
  },
  {
   "cell_type": "code",
   "execution_count": null,
   "metadata": {},
   "outputs": [],
   "source": []
  },
  {
   "cell_type": "code",
   "execution_count": null,
   "metadata": {},
   "outputs": [],
   "source": []
  }
 ],
 "metadata": {
  "kernelspec": {
   "display_name": "Python 3",
   "language": "python",
   "name": "python3"
  },
  "language_info": {
   "codemirror_mode": {
    "name": "ipython",
    "version": 3
   },
   "file_extension": ".py",
   "mimetype": "text/x-python",
   "name": "python",
   "nbconvert_exporter": "python",
   "pygments_lexer": "ipython3",
   "version": "3.8.3"
  }
 },
 "nbformat": 4,
 "nbformat_minor": 4
}
