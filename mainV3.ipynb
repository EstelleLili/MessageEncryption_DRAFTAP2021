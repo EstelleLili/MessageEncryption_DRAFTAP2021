{
 "cells": [
  {
   "cell_type": "code",
   "execution_count": 37,
   "metadata": {
    "scrolled": true
   },
   "outputs": [
    {
     "name": "stdout",
     "output_type": "stream",
     "text": [
      "\n",
      "Do you want to encrypt[e] or decrypt[d] a message? e or d: d\n",
      "\n",
      "Do you want to decrypt the latest message? y or n: y\n"
     ]
    },
    {
     "ename": "TypeError",
     "evalue": "a bytes-like object is required, not 'str'",
     "output_type": "error",
     "traceback": [
      "\u001b[1;31m---------------------------------------------------------------------------\u001b[0m",
      "\u001b[1;31mTypeError\u001b[0m                                 Traceback (most recent call last)",
      "\u001b[1;32m<ipython-input-37-aff38720b762>\u001b[0m in \u001b[0;36m<module>\u001b[1;34m\u001b[0m\n\u001b[0;32m     71\u001b[0m             \u001b[0mfulltxt\u001b[0m \u001b[1;33m=\u001b[0m  \u001b[0mopen\u001b[0m\u001b[1;33m(\u001b[0m\u001b[1;34m'msg.csv'\u001b[0m\u001b[1;33m,\u001b[0m \u001b[1;34m'rb'\u001b[0m\u001b[1;33m)\u001b[0m\u001b[1;33m.\u001b[0m\u001b[0mread\u001b[0m\u001b[1;33m(\u001b[0m\u001b[1;33m)\u001b[0m\u001b[1;33m\u001b[0m\u001b[1;33m\u001b[0m\u001b[0m\n\u001b[0;32m     72\u001b[0m             \u001b[1;31m#fulltxt =  bytes(open('msg.csv', 'rb').read(), \"utf-8\")\u001b[0m\u001b[1;33m\u001b[0m\u001b[1;33m\u001b[0m\u001b[1;33m\u001b[0m\u001b[0m\n\u001b[1;32m---> 73\u001b[1;33m             \u001b[0menc_msg\u001b[0m \u001b[1;33m=\u001b[0m \u001b[0mbytes\u001b[0m\u001b[1;33m(\u001b[0m\u001b[0mfulltxt\u001b[0m\u001b[1;33m.\u001b[0m\u001b[0msplit\u001b[0m\u001b[1;33m(\u001b[0m\u001b[1;34m','\u001b[0m\u001b[1;33m)\u001b[0m\u001b[1;33m[\u001b[0m\u001b[1;33m-\u001b[0m\u001b[1;36m1\u001b[0m\u001b[1;33m]\u001b[0m\u001b[1;33m,\u001b[0m \u001b[1;34m\"utf-8\"\u001b[0m\u001b[1;33m)\u001b[0m\u001b[1;33m\u001b[0m\u001b[1;33m\u001b[0m\u001b[0m\n\u001b[0m\u001b[0;32m     74\u001b[0m             \u001b[0mdecrypt_message\u001b[0m\u001b[1;33m(\u001b[0m\u001b[0mmessage\u001b[0m\u001b[1;33m(\u001b[0m\u001b[0menc_msg\u001b[0m\u001b[1;33m)\u001b[0m\u001b[1;33m)\u001b[0m\u001b[1;33m\u001b[0m\u001b[1;33m\u001b[0m\u001b[0m\n\u001b[0;32m     75\u001b[0m             \u001b[1;32mbreak\u001b[0m\u001b[1;33m\u001b[0m\u001b[1;33m\u001b[0m\u001b[0m\n",
      "\u001b[1;31mTypeError\u001b[0m: a bytes-like object is required, not 'str'"
     ]
    }
   ],
   "source": [
    "import pandas as pd\n",
    "from cryptography.fernet import Fernet\n",
    "from csv import writer\n",
    "from datetime import datetime\n",
    "\n",
    "def generate_key():\n",
    "    \"\"\"Generates a key and save it into a file\"\"\"\n",
    "    global key\n",
    "    key = Fernet.generate_key()\n",
    "    with open(\"secret.key\", \"wb\") as key_file:\n",
    "        key_file.write(key)\n",
    "    \n",
    "    return key\n",
    "        \n",
    "def load_key():\n",
    "    \"\"\"Load the previously generated key\"\"\"\n",
    "    return open(\"secret.key\", \"rb\").read()\n",
    "\n",
    "def encrypt_message(message):\n",
    "    \"\"\"Encrypts a message\"\"\"\n",
    "    global encrypted_message \n",
    "    key = load_key()\n",
    "    encoded_message = message.encode()        \n",
    "    f = Fernet(key)\n",
    "    encrypted_message = f.encrypt(encoded_message)\n",
    "    \n",
    "    return encrypted_message\n",
    "\n",
    "    \n",
    "def decrypt_message(encrypt_message):\n",
    "    \"\"\"Decrypts an encrypted message\"\"\"\n",
    "    key = load_key()\n",
    "    f = Fernet(key)\n",
    "    decrypted_message = f.decrypt(encrypt_message).decode()\n",
    "    return decrypted_message\n",
    "\n",
    "def log():\n",
    "    date_time=datetime.now()\n",
    "    timestamp= date_time.strftime(\"%d/%m/%Y-%H:%M\")\n",
    "    timestamp\n",
    "    List= [timestamp, message, encrypt_message(message),generate_key()]\n",
    "    with open('msg.csv', 'a') as f_object:\n",
    "        writer_object = writer(f_object)\n",
    "        writer_object.writerow(List)\n",
    "        f_object.close()\n",
    "    \n",
    "\n",
    "flag = True\n",
    "while flag == True:\n",
    "    e_d = [\"e\", \"d\"]\n",
    "    \n",
    "    key = ''\n",
    "    encrypted_message= \"\"\n",
    "    \n",
    "    response_enc = input(\"\\nDo you want to encrypt[e] or decrypt[d] a message? e or d: \")\n",
    "    response_enc = response_enc.lower()\n",
    "    if response_enc not in e_d:\n",
    "        response_enc = input(\"\\n!!!Please answer question!!! e or d: \")\n",
    "      \n",
    "    #encryt message\n",
    "    if response_enc == \"e\":\n",
    "        message = input(\"ENTER message to ENCRYPT: \")\n",
    "        log()\n",
    "        print(\"\\nENCRYPTING MESSAGE........\\n\")\n",
    "        break\n",
    "\n",
    "    #decrypt message\n",
    "    elif response_enc == \"d\":\n",
    "        message = input(\"\\nDo you want to decrypt the latest message? y or n: \")\n",
    "        if message == \"y\":\n",
    "            fulltxt =  open('msg.csv', 'rb').read()\n",
    "            #fulltxt =  bytes(open('msg.csv', 'rb').read(), \"utf-8\")\n",
    "            enc_msg = fulltxt.split(',')[-1]\n",
    "            decrypt_message(message(enc_msg))\n",
    "            break\n",
    "        elif message == \"n\":\n",
    "            msg = input(\"\\nWe are working to upgrade this function. Maybe you wnat to give another try? y or n:\")\n",
    "            if msg == \"n\":\n",
    "                print(\"\\nGot it! Bye\") \n",
    "                break\n",
    "            else:\n",
    "                decrypt_message(message)\n",
    "                break\n",
    "        else:\n",
    "            print(\"\\ok ciao...\") \n",
    "            break\n",
    "     \n",
    "    #other\n",
    "    else:\n",
    "        print(\"\\you type something else... good bye.\")\n",
    "        break\n",
    "    \n",
    "    \n",
    "flag = False"
   ]
  },
  {
   "cell_type": "code",
   "execution_count": null,
   "metadata": {},
   "outputs": [],
   "source": [
    "\n",
    "    elif response_enc == \"d\":\n",
    "        with open('log.csv', 'a') as msg_file:\n",
    "            decrypt_message = msg_file.read(msg_file, r',b\\'(.*?)==\\',')\n",
    "            \n",
    "        fulltxt = open(mifilepath, 'rb').read()\n",
    "laststring = fulltxt.split(',')[-1]\n",
    "\n",
    "     "
   ]
  },
  {
   "cell_type": "code",
   "execution_count": 7,
   "metadata": {},
   "outputs": [],
   "source": [
    "pd.set_option('display.max_colwidth', None)\n",
    "\n",
    "\n",
    "def read_log():\n",
    "        read_log = pd.read_csv(\"log1.csv\")\n",
    "        read_log\n",
    "        \n",
    "read_log()"
   ]
  },
  {
   "cell_type": "code",
   "execution_count": null,
   "metadata": {},
   "outputs": [],
   "source": [
    "read_log = pd.read_csv(\"log.csv\")\n",
    "read_log"
   ]
  }
 ],
 "metadata": {
  "kernelspec": {
   "display_name": "Python 3",
   "language": "python",
   "name": "python3"
  },
  "language_info": {
   "codemirror_mode": {
    "name": "ipython",
    "version": 3
   },
   "file_extension": ".py",
   "mimetype": "text/x-python",
   "name": "python",
   "nbconvert_exporter": "python",
   "pygments_lexer": "ipython3",
   "version": "3.8.3"
  }
 },
 "nbformat": 4,
 "nbformat_minor": 4
}
