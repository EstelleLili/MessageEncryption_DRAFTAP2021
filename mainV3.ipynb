{
 "cells": [
  {
   "cell_type": "code",
   "execution_count": 5,
   "metadata": {},
   "outputs": [],
   "source": [
    "import pandas as pd\n",
    "from cryptography.fernet import Fernet\n",
    "from csv import writer\n",
    "from datetime import datetime"
   ]
  },
  {
   "cell_type": "code",
   "execution_count": 10,
   "metadata": {},
   "outputs": [
    {
     "name": "stdout",
     "output_type": "stream",
     "text": [
      "\n",
      "Do you want to encrypt or decrypt a message? e or d: d\n"
     ]
    },
    {
     "ename": "TypeError",
     "evalue": "read expected at most 1 argument, got 2",
     "output_type": "error",
     "traceback": [
      "\u001b[1;31m---------------------------------------------------------------------------\u001b[0m",
      "\u001b[1;31mTypeError\u001b[0m                                 Traceback (most recent call last)",
      "\u001b[1;32m<ipython-input-10-af206045087f>\u001b[0m in \u001b[0;36m<module>\u001b[1;34m\u001b[0m\n\u001b[0;32m     57\u001b[0m     \u001b[1;32melif\u001b[0m \u001b[0mresponse_enc\u001b[0m \u001b[1;33m==\u001b[0m \u001b[1;34m\"d\"\u001b[0m\u001b[1;33m:\u001b[0m\u001b[1;33m\u001b[0m\u001b[1;33m\u001b[0m\u001b[0m\n\u001b[0;32m     58\u001b[0m         \u001b[1;32mwith\u001b[0m \u001b[0mopen\u001b[0m\u001b[1;33m(\u001b[0m\u001b[1;34m'log.csv'\u001b[0m\u001b[1;33m,\u001b[0m \u001b[1;34m'a'\u001b[0m\u001b[1;33m)\u001b[0m \u001b[1;32mas\u001b[0m \u001b[0mmsg_file\u001b[0m\u001b[1;33m:\u001b[0m\u001b[1;33m\u001b[0m\u001b[1;33m\u001b[0m\u001b[0m\n\u001b[1;32m---> 59\u001b[1;33m             \u001b[0mdecrypt_message\u001b[0m \u001b[1;33m=\u001b[0m \u001b[0mmsg_file\u001b[0m\u001b[1;33m.\u001b[0m\u001b[0mread\u001b[0m\u001b[1;33m(\u001b[0m\u001b[0mmsg_file\u001b[0m\u001b[1;33m,\u001b[0m \u001b[1;34mr',b\\'(.*?)==\\','\u001b[0m\u001b[1;33m)\u001b[0m\u001b[1;33m\u001b[0m\u001b[1;33m\u001b[0m\u001b[0m\n\u001b[0m\u001b[0;32m     60\u001b[0m \u001b[1;33m\u001b[0m\u001b[0m\n\u001b[0;32m     61\u001b[0m         \u001b[1;31m#message = bytes(input(\"Select message to DECRYPT: \"), \"utf-8\")\u001b[0m\u001b[1;33m\u001b[0m\u001b[1;33m\u001b[0m\u001b[1;33m\u001b[0m\u001b[0m\n",
      "\u001b[1;31mTypeError\u001b[0m: read expected at most 1 argument, got 2"
     ]
    }
   ],
   "source": [
    "key = ''\n",
    "\n",
    "def generate_key():\n",
    "    \"\"\"Generates a key and save it into a file\"\"\"\n",
    "    key = Fernet.generate_key()\n",
    "    with open(\"secret.key\", \"wb\") as key_file:\n",
    "        key_file.write(key)\n",
    "        #print(\"Key\\n\", key)\n",
    "        \n",
    "def load_key():\n",
    "    \"\"\"Load the previously generated key\"\"\"\n",
    "    return open(\"secret.key\", \"rb\").read()\n",
    "\n",
    "def encrypt_message(message):\n",
    "    \"\"\"Encrypts a message\"\"\"\n",
    "    key = load_key()\n",
    "    encoded_message = message.encode()        \n",
    "    f = Fernet(key)\n",
    "    encrypted_message = f.encrypt(encoded_message)\n",
    "    return encrypted_message\n",
    "\n",
    "    \n",
    "def decrypt_message(encrypt_message):\n",
    "    \"\"\"Decrypts an encrypted message\"\"\"\n",
    "    key = load_key()\n",
    "    f = Fernet(key)\n",
    "    decrypted_message = f.decrypt(encrypt_message).decode()\n",
    "    return decrypted_message\n",
    "\n",
    "def log():\n",
    "    date_time=datetime.now()\n",
    "    timestamp= date_time.strftime(\"%d/%m/%Y-%H:%M\")\n",
    "    timestamp\n",
    "    List= [timestamp, message, encrypt_message(message),key]\n",
    "    with open('log.csv', 'a') as f_object:\n",
    "        writer_object = writer(f_object)\n",
    "        writer_object.writerow(List)\n",
    "        f_object.close()\n",
    "    \n",
    "\n",
    "flag = True\n",
    "while flag == True:\n",
    "    e_d = [\"e\", \"d\"]\n",
    "    \n",
    "    response_enc = input(\"\\nDo you want to encrypt or decrypt a message? e or d: \")\n",
    "    response_enc = response_enc.lower()\n",
    "    if response_enc not in e_d:\n",
    "        response_enc = input(\"\\n!!!Please answer question!!! e or d: \")\n",
    "        \n",
    "    if response_enc == \"e\":\n",
    "        message = input(\"ENTER message to ENCRYPT: \")\n",
    "        generate_key()\n",
    "        encrypt_message(message)\n",
    "        print(\"\\nENCRYPTING MESSAGE........\\n\")\n",
    "        break\n",
    "\n",
    "    elif response_enc == \"d\":\n",
    "        with open('log.csv', 'a') as msg_file:\n",
    "            decrypt_message = msg_file.read(msg_file, r',b\\'(.*?)==\\',')\n",
    "            \n",
    "        fulltxt = open(mifilepath, 'rb').read()\n",
    "laststring = fulltxt.split(',')[-1]\n",
    "\n",
    "        #message = bytes(input(\"Select message to DECRYPT: \"), \"utf-8\")\n",
    "        load_key()\n",
    "        decrypt_message(message)\n",
    "        break\n",
    "    else:\n",
    "        print(\"you type 'n'... good bye.\")\n",
    "        break\n",
    "    \n",
    " \n",
    "    \n",
    "    \n",
    "flag = False\n",
    "log()"
   ]
  },
  {
   "cell_type": "code",
   "execution_count": 7,
   "metadata": {},
   "outputs": [],
   "source": [
    "pd.set_option('display.max_colwidth', None)\n",
    "\n",
    "\n",
    "def read_log():\n",
    "        read_log = pd.read_csv(\"log1.csv\")\n",
    "        read_log\n",
    "        \n",
    "read_log()"
   ]
  },
  {
   "cell_type": "code",
   "execution_count": null,
   "metadata": {},
   "outputs": [],
   "source": [
    "read_log = pd.read_csv(\"log.csv\")\n",
    "read_log"
   ]
  }
 ],
 "metadata": {
  "kernelspec": {
   "display_name": "Python 3",
   "language": "python",
   "name": "python3"
  },
  "language_info": {
   "codemirror_mode": {
    "name": "ipython",
    "version": 3
   },
   "file_extension": ".py",
   "mimetype": "text/x-python",
   "name": "python",
   "nbconvert_exporter": "python",
   "pygments_lexer": "ipython3",
   "version": "3.8.3"
  }
 },
 "nbformat": 4,
 "nbformat_minor": 4
}
