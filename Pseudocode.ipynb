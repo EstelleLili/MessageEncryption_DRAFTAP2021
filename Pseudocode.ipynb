{
 "cells": [
  {
   "cell_type": "code",
   "execution_count": null,
   "metadata": {},
   "outputs": [],
   "source": [
    "\"\"\"\n",
    "message = input (\"Enter your message\")\n",
    "=>save message\n",
    "\n",
    "function key to encrypte message\n",
    "\n",
    "function to encrypt message \n",
    "=> save encrypted message\n",
    "output: print encypted message\n",
    "        - save to csv file.  original message & encrypted message.  \n",
    "\n",
    "function to decrypt message\n",
    "outputL: print decrypted message. \n",
    "        - save to csv file.  original message & encrypted message & decrypted message.  \n",
    "\"\"\""
   ]
  }
 ],
 "metadata": {
  "kernelspec": {
   "display_name": "Python 3",
   "language": "python",
   "name": "python3"
  },
  "language_info": {
   "codemirror_mode": {
    "name": "ipython",
    "version": 3
   },
   "file_extension": ".py",
   "mimetype": "text/x-python",
   "name": "python",
   "nbconvert_exporter": "python",
   "pygments_lexer": "ipython3",
   "version": "3.8.3"
  }
 },
 "nbformat": 4,
 "nbformat_minor": 4
}
