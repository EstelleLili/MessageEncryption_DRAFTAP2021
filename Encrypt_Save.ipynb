{
 "cells": [
  {
   "cell_type": "code",
   "execution_count": 2,
   "metadata": {},
   "outputs": [
    {
     "name": "stdout",
     "output_type": "stream",
     "text": [
      "ENTER message to encrypt: lets try another message\n",
      "\n",
      "Do you want to encrypt a message? y or n: y\n",
      "\n",
      "Your message has been encrypted:\n",
      "b'gAAAAABgeduP7PrZI8DzKKfr4N-DMZm6AyLyPLPh7skva9MU2tQkyj5pUNtAMRLMKQDqDFLjlSBNjHRZ5vm9uaJB2e0sPHo0mWLXxZkjzJHKytwq51O8HAc='\n",
      "\n",
      "Your message has been encrypted:\n",
      "b'gAAAAABgeduPTti8vzI8I2M0_PJMxGPgkPRIvSDlPZdK9TR7mJzP8fC9WR5EUzvphhPIMLH-gTB7-YyS5p8tmgU6JK6L9UdP_wBpdtDRW6L3UHmmv_S3ryU='\n"
     ]
    }
   ],
   "source": [
    "from cryptography.fernet import Fernet\n",
    "from csv import writer\n",
    "from datetime import datetime\n",
    "\n",
    "def generate_key():\n",
    "    \"\"\"Generates a key and save it into a file\"\"\"\n",
    "    key = Fernet.generate_key()\n",
    "    with open(\"secret.key\", \"wb\") as key_file:\n",
    "        key_file.write(key)\n",
    "        \n",
    "def load_key():\n",
    "    \"\"\"Load the previously generated key\"\"\"\n",
    "    return open(\"secret.key\", \"rb\").read()\n",
    "\n",
    "def encrypt_message(message):\n",
    "    \"\"\"Encrypts a message\"\"\"\n",
    "    key = load_key()\n",
    "    encoded_message = message.encode()        \n",
    "    f = Fernet(key)\n",
    "    encrypted_message = f.encrypt(encoded_message)\n",
    "    print(\"\\nYour message has been encrypted:\")\n",
    "    print(encrypted_message)\n",
    "    return encrypted_message\n",
    "\n",
    "    \n",
    "def decrypt_message(encrypt_message):\n",
    "    \"\"\"Decrypts an encrypted message\"\"\"\n",
    "    key = load_key()\n",
    "    f = Fernet(key)\n",
    "    decrypted_message = f.decrypt(encrypt_message).decode()\n",
    "    return decrypted_message\n",
    "\n",
    "def log():\n",
    "    date_time=datetime.now()\n",
    "    timestamp= date_time.strftime(\"%d/%m/%Y-%H:%M\")\n",
    "    timestamp\n",
    "    List= [timestamp, message, encrypt_message(message)]\n",
    "    with open('log1.csv', 'a') as f_object:\n",
    "        writer_object = writer(f_object)\n",
    "        writer_object.writerow(List)\n",
    "        f_object.close()\n",
    "\n",
    "\n",
    "message = input(\"ENTER message to encrypt: \")\n",
    "y_n = [\"y\", \"n\"]\n",
    "\n",
    "flag = True\n",
    "while flag == True:\n",
    "    \n",
    "    response_enc = input(\"\\nDo you want to encrypt a message? y or n: \")\n",
    "    response_enc = response_enc.lower()\n",
    "    if response_enc not in y_n:\n",
    "        response_enc = input(\"\\nPlease ansewr the simple question! y or n: \")\n",
    "    elif response_enc == \"y\":\n",
    "        generate_key()\n",
    "        log()\n",
    "        encrypt_message(message)\n",
    "        flag = False\n",
    "    else:\n",
    "        print(\"you type 'n'... good bye.\")\n",
    "        flag = False"
   ]
  },
  {
   "cell_type": "code",
   "execution_count": null,
   "metadata": {},
   "outputs": [],
   "source": []
  }
 ],
 "metadata": {
  "kernelspec": {
   "display_name": "Python 3",
   "language": "python",
   "name": "python3"
  },
  "language_info": {
   "codemirror_mode": {
    "name": "ipython",
    "version": 3
   },
   "file_extension": ".py",
   "mimetype": "text/x-python",
   "name": "python",
   "nbconvert_exporter": "python",
   "pygments_lexer": "ipython3",
   "version": "3.8.3"
  }
 },
 "nbformat": 4,
 "nbformat_minor": 4
}
